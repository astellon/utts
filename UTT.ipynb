{
 "cells": [
  {
   "cell_type": "markdown",
   "metadata": {},
   "source": [
    "# Uniform Triadic Transformations\n",
    "\n",
    "The implementation of Uniform Triadic Transformations.\n",
    "\n",
    "Referenses\n",
    "\n",
    "Ada Zhang, *The Framework of Music Theory as Represented with Groups*, https://sites.math.washington.edu/~morrow/336_09/papers/Ada.pdf, 2009"
   ]
  },
  {
   "cell_type": "code",
   "execution_count": 1,
   "metadata": {},
   "outputs": [],
   "source": [
    "using MIDI"
   ]
  },
  {
   "cell_type": "code",
   "execution_count": 2,
   "metadata": {},
   "outputs": [],
   "source": [
    "struct PitchClass\n",
    "    note\n",
    "    PitchClass(n=0) = new(n)\n",
    "end"
   ]
  },
  {
   "cell_type": "code",
   "execution_count": 3,
   "metadata": {},
   "outputs": [
    {
     "data": {
      "text/plain": [
       "+ (generic function with 168 methods)"
      ]
     },
     "execution_count": 3,
     "metadata": {},
     "output_type": "execute_result"
    }
   ],
   "source": [
    "import Base.+\n",
    "+(p::PitchClass, t::Integer)    = PitchClass(mod(p.note+t, 12))\n",
    "+(t::Integer, p::PitchClass)    = PitchClass(mod(p.note+t, 12))\n",
    "+(p::PitchClass, t::PitchClass) = PitchClass(mod(p.note+t.note, 12))"
   ]
  },
  {
   "cell_type": "code",
   "execution_count": 4,
   "metadata": {},
   "outputs": [
    {
     "data": {
      "text/plain": [
       "- (generic function with 181 methods)"
      ]
     },
     "execution_count": 4,
     "metadata": {},
     "output_type": "execute_result"
    }
   ],
   "source": [
    "import Base.-\n",
    "-(p::PitchClass)                = PitchClass(mod(-p.note, 12))\n",
    "-(p::PitchClass, t::Integer)    = PitchClass(mod(p.note-t, 12))\n",
    "-(t::Integer, p::PitchClass)    = PitchClass(mod(t-p.note, 12))\n",
    "-(p::PitchClass, t::PitchClass) = PitchClass(mod(p.note-t.note, 12))"
   ]
  },
  {
   "cell_type": "code",
   "execution_count": 5,
   "metadata": {},
   "outputs": [
    {
     "data": {
      "text/plain": [
       "PitchClass(3)"
      ]
     },
     "execution_count": 5,
     "metadata": {},
     "output_type": "execute_result"
    }
   ],
   "source": [
    "# testing\n",
    "p = PitchClass(1)\n",
    "t = PitchClass(2)\n",
    "p + t"
   ]
  },
  {
   "cell_type": "code",
   "execution_count": 6,
   "metadata": {},
   "outputs": [],
   "source": [
    "@enum Mode Major Minor\n",
    "\n",
    "# Triad\n",
    "struct Triad\n",
    "    root\n",
    "    sign\n",
    "    Triad(root = 0, sign = Major) = new(PitchClass(root), sign)\n",
    "    Triad(root::PitchClass, sign = Major) = new(root, sign)\n",
    "end"
   ]
  },
  {
   "cell_type": "code",
   "execution_count": 7,
   "metadata": {},
   "outputs": [
    {
     "data": {
      "text/plain": [
       "* (generic function with 345 methods)"
      ]
     },
     "execution_count": 7,
     "metadata": {},
     "output_type": "execute_result"
    }
   ],
   "source": [
    "import Base.*\n",
    "\n",
    "function *(l::Mode, r::Mode)\n",
    "    Mode(mod(Int(l)+Int(r), 2))\n",
    "end\n",
    "\n",
    "function *(l::Triad, r::Triad)\n",
    "    root = l.root + r.root\n",
    "    sign = l.sign * r.sign\n",
    "    Triad(root, sign)\n",
    "end"
   ]
  },
  {
   "cell_type": "code",
   "execution_count": 8,
   "metadata": {},
   "outputs": [
    {
     "data": {
      "text/plain": [
       "Triad(PitchClass(7), Minor::Mode = 1)"
      ]
     },
     "execution_count": 8,
     "metadata": {},
     "output_type": "execute_result"
    }
   ],
   "source": [
    "Triad(2, Major)*Triad(5, Minor)"
   ]
  },
  {
   "cell_type": "code",
   "execution_count": 9,
   "metadata": {},
   "outputs": [
    {
     "data": {
      "text/plain": [
       "int (generic function with 1 method)"
      ]
     },
     "execution_count": 9,
     "metadata": {},
     "output_type": "execute_result"
    }
   ],
   "source": [
    "# Gamma-Interval\n",
    "function int(l::Triad, r::Triad)\n",
    "    root = r.root - l.root\n",
    "    sign = l.sign * r.sign\n",
    "    Triad(root, sign)\n",
    "end"
   ]
  },
  {
   "cell_type": "code",
   "execution_count": 10,
   "metadata": {},
   "outputs": [
    {
     "data": {
      "text/plain": [
       "Triad(PitchClass(3), Minor::Mode = 1)"
      ]
     },
     "execution_count": 10,
     "metadata": {},
     "output_type": "execute_result"
    }
   ],
   "source": [
    "int(Triad(2, Major), Triad(5, Minor))"
   ]
  },
  {
   "cell_type": "code",
   "execution_count": 11,
   "metadata": {},
   "outputs": [],
   "source": [
    "struct UniformTriadicTransformation\n",
    "    sign\n",
    "    tp\n",
    "    tm\n",
    "    UniformTriadicTransformation(sign = Major, tp = 0, tm = 0) = new(sign, tp, tm)\n",
    "end"
   ]
  },
  {
   "cell_type": "code",
   "execution_count": 12,
   "metadata": {},
   "outputs": [
    {
     "data": {
      "text/plain": [
       "UniformTriadicTransformation"
      ]
     },
     "execution_count": 12,
     "metadata": {},
     "output_type": "execute_result"
    }
   ],
   "source": [
    "const UTT = UniformTriadicTransformation"
   ]
  },
  {
   "cell_type": "code",
   "execution_count": 13,
   "metadata": {},
   "outputs": [],
   "source": [
    "function (u::UTT)(tr::Triad)\n",
    "    t = (1-Int(tr.sign))*u.tp + Int(tr.sign)*u.tm\n",
    "    s = u.sign * tr.sign\n",
    "    Triad(tr.root + t, s)\n",
    "end"
   ]
  },
  {
   "cell_type": "code",
   "execution_count": 14,
   "metadata": {},
   "outputs": [
    {
     "name": "stdout",
     "output_type": "stream",
     "text": [
      "u(Triad(2, Major)) = Triad(PitchClass(4), Minor::Mode = 1)\n",
      "u(Triad(10, Minor)) = Triad(PitchClass(1), Major::Mode = 0)\n"
     ]
    },
    {
     "data": {
      "text/plain": [
       "Triad(PitchClass(1), Major::Mode = 0)"
      ]
     },
     "execution_count": 14,
     "metadata": {},
     "output_type": "execute_result"
    }
   ],
   "source": [
    "u = UTT(Minor, 2, 3)\n",
    "@show u(Triad(2, Major))\n",
    "@show u(Triad(10, Minor))"
   ]
  },
  {
   "cell_type": "code",
   "execution_count": 15,
   "metadata": {},
   "outputs": [
    {
     "data": {
      "text/plain": [
       "* (generic function with 346 methods)"
      ]
     },
     "execution_count": 15,
     "metadata": {},
     "output_type": "execute_result"
    }
   ],
   "source": [
    "function *(u::UTT, v::UTT)\n",
    "    s  = u.sign * v.sign\n",
    "    tp = u.tp + (1-Int(u.sign))*v.tp + Int(u.sign)*v.tm\n",
    "    tm = u.tm + Int(u.sign)*v.tp + (1-Int(u.sign))*v.tm\n",
    "    UTT(s, tp, tm)\n",
    "end"
   ]
  },
  {
   "cell_type": "code",
   "execution_count": 16,
   "metadata": {},
   "outputs": [
    {
     "name": "stdout",
     "output_type": "stream",
     "text": [
      "Triad(PitchClass(0), Major::Mode = 0)\n",
      "Triad(PitchClass(9), Minor::Mode = 1)\n",
      "Triad(PitchClass(5), Major::Mode = 0)\n",
      "Triad(PitchClass(2), Minor::Mode = 1)\n",
      "Triad(PitchClass(10), Major::Mode = 0)\n",
      "Triad(PitchClass(7), Minor::Mode = 1)\n",
      "Triad(PitchClass(3), Major::Mode = 0)\n",
      "Triad(PitchClass(0), Minor::Mode = 1)\n",
      "Triad(PitchClass(8), Major::Mode = 0)\n",
      "Triad(PitchClass(5), Minor::Mode = 1)\n",
      "Triad(PitchClass(1), Major::Mode = 0)\n",
      "Triad(PitchClass(10), Minor::Mode = 1)\n",
      "Triad(PitchClass(6), Major::Mode = 0)\n",
      "Triad(PitchClass(3), Minor::Mode = 1)\n",
      "Triad(PitchClass(11), Major::Mode = 0)\n",
      "Triad(PitchClass(8), Minor::Mode = 1)\n",
      "Triad(PitchClass(4), Major::Mode = 0)\n",
      "Triad(PitchClass(1), Minor::Mode = 1)\n",
      "Triad(PitchClass(9), Major::Mode = 0)\n",
      "Triad(PitchClass(6), Minor::Mode = 1)\n",
      "Triad(PitchClass(2), Major::Mode = 0)\n",
      "Triad(PitchClass(11), Minor::Mode = 1)\n",
      "Triad(PitchClass(7), Major::Mode = 0)\n",
      "Triad(PitchClass(4), Minor::Mode = 1)\n"
     ]
    }
   ],
   "source": [
    "u = UTT(Minor, 9, 8)\n",
    "t = Triad()\n",
    "for i in 1:24\n",
    "    tn = u(t)\n",
    "    println(t)\n",
    "    t = tn\n",
    "end"
   ]
  },
  {
   "cell_type": "code",
   "execution_count": 17,
   "metadata": {},
   "outputs": [
    {
     "data": {
      "text/plain": [
       "RiemannianTriadTransformation (generic function with 1 method)"
      ]
     },
     "execution_count": 17,
     "metadata": {},
     "output_type": "execute_result"
    }
   ],
   "source": [
    "function RiemannianTriadTransformation(sign, t)\n",
    "    UTT(sign, t, -t)\n",
    "end"
   ]
  },
  {
   "cell_type": "code",
   "execution_count": 18,
   "metadata": {},
   "outputs": [
    {
     "data": {
      "text/plain": [
       "RiemannianTriadTransformation (generic function with 1 method)"
      ]
     },
     "execution_count": 18,
     "metadata": {},
     "output_type": "execute_result"
    }
   ],
   "source": [
    "const RTT = RiemannianTriadTransformation"
   ]
  },
  {
   "cell_type": "code",
   "execution_count": 19,
   "metadata": {},
   "outputs": [
    {
     "data": {
      "text/plain": [
       "MIDIFile:\n",
       "  format: 0\n",
       "  tracks: 1\n",
       "  tpq: 960"
      ]
     },
     "execution_count": 19,
     "metadata": {},
     "output_type": "execute_result"
    }
   ],
   "source": [
    "# to midi\n",
    "length = 192*8\n",
    "file = MIDIFile()\n",
    "track = MIDITrack()\n",
    "notes = Notes()\n",
    "\n",
    "for i in 0:24\n",
    "    third, fifth = t.sign == Major ? (4, 7) : (3, 7)\n",
    "    push!(notes, Note(t.root.note + 60,         100, i*length, length))\n",
    "    push!(notes, Note(t.root.note + 60 + third, 100, i*length, length))\n",
    "    push!(notes, Note(t.root.note + 60 + fifth, 100, i*length, length))\n",
    "    t = u(t)\n",
    "end\n",
    "\n",
    "addnotes!(track, notes)\n",
    "addtrackname!(track, \"UUTs\")\n",
    "push!(file.tracks, track)\n",
    "writeMIDIFile(\"test.mid\", file)"
   ]
  }
 ],
 "metadata": {
  "kernelspec": {
   "display_name": "Julia 1.0.0",
   "language": "julia",
   "name": "julia-1.0"
  },
  "language_info": {
   "file_extension": ".jl",
   "mimetype": "application/julia",
   "name": "julia",
   "version": "1.0.0"
  }
 },
 "nbformat": 4,
 "nbformat_minor": 2
}
